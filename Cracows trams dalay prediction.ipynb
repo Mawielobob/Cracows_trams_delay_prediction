{
 "cells": [
  {
   "cell_type": "markdown",
   "metadata": {},
   "source": [
    "## Cracow trams delays\n"
   ]
  },
  {
   "cell_type": "code",
   "execution_count": 1,
   "metadata": {},
   "outputs": [],
   "source": [
    "import pandas as pd\n",
    "import numpy as np\n",
    "import matplotlib.pyplot as plt \n",
    "import seaborn as sns\n",
    "\n",
    "from sklearn.tree import DecisionTreeRegressor\n",
    "from sklearn.model_selection import cross_val_score\n",
    "from scikitplot.estimators import plot_learning_curve\n",
    "\n",
    "%matplotlib inline"
   ]
  },
  {
   "cell_type": "markdown",
   "metadata": {},
   "source": [
    "Loading data for 7 days\n",
    "\n",
    "I convert 'vehicleId' to string, because in the automaticly obtained type (float64) id was rounded, as a result of which there were only 2 unique vehicleId (which is not correct!). np.Int64 could not be used yet because of missing values.\n",
    "There was no problem with 'tripId' - that`s probably because of NaN values in 'vehicleId' and fullfiled in 'tripId'."
   ]
  },
  {
   "cell_type": "code",
   "execution_count": 2,
   "metadata": {},
   "outputs": [
    {
     "name": "stdout",
     "output_type": "stream",
     "text": [
      "Wall time: 1min 3s\n"
     ]
    }
   ],
   "source": [
    "%%time\n",
    "\n",
    "df23 = pd.read_csv('report_07-23.csv', dtype={'vehicleId': str})\n",
    "df24 = pd.read_csv('report_07-24.csv', dtype={'vehicleId': str})\n",
    "df25 = pd.read_csv('report_07-25.csv', dtype={'vehicleId': str})\n",
    "df26 = pd.read_csv('report_07-26.csv', dtype={'vehicleId': str})\n",
    "df27 = pd.read_csv('report_07-27.csv', dtype={'vehicleId': str})\n",
    "df30 = pd.read_csv('report_07-30.csv', dtype={'vehicleId': str})\n",
    "df31 = pd.read_csv('report_07-31.csv', dtype={'vehicleId': str})\n",
    "\n",
    "trams = pd.concat( [ df23, df24, df25, df26, df27, df30, df31 ] )"
   ]
  },
  {
   "cell_type": "code",
   "execution_count": 3,
   "metadata": {},
   "outputs": [
    {
     "data": {
      "text/html": [
       "<div>\n",
       "<style scoped>\n",
       "    .dataframe tbody tr th:only-of-type {\n",
       "        vertical-align: middle;\n",
       "    }\n",
       "\n",
       "    .dataframe tbody tr th {\n",
       "        vertical-align: top;\n",
       "    }\n",
       "\n",
       "    .dataframe thead th {\n",
       "        text-align: right;\n",
       "    }\n",
       "</style>\n",
       "<table border=\"1\" class=\"dataframe\">\n",
       "  <thead>\n",
       "    <tr style=\"text-align: right;\">\n",
       "      <th></th>\n",
       "      <th>index</th>\n",
       "      <th>time_stamp</th>\n",
       "      <th>stop</th>\n",
       "      <th>stopName</th>\n",
       "      <th>number</th>\n",
       "      <th>direction</th>\n",
       "      <th>plannedTime</th>\n",
       "      <th>vehicleId</th>\n",
       "      <th>tripId</th>\n",
       "      <th>status</th>\n",
       "      <th>delay</th>\n",
       "      <th>seq_num</th>\n",
       "    </tr>\n",
       "  </thead>\n",
       "  <tbody>\n",
       "    <tr>\n",
       "      <th>0</th>\n",
       "      <td>1</td>\n",
       "      <td>2018-07-23 06:00:45</td>\n",
       "      <td>378</td>\n",
       "      <td>Os.Piastów</td>\n",
       "      <td>21</td>\n",
       "      <td>Kopiec Wandy</td>\n",
       "      <td>2018-07-23 05:59:00</td>\n",
       "      <td>NaN</td>\n",
       "      <td>6351558574044883205</td>\n",
       "      <td>PLANNED</td>\n",
       "      <td>1</td>\n",
       "      <td>1.0</td>\n",
       "    </tr>\n",
       "    <tr>\n",
       "      <th>1</th>\n",
       "      <td>1</td>\n",
       "      <td>2018-07-23 06:00:47</td>\n",
       "      <td>612</td>\n",
       "      <td>Borsucza</td>\n",
       "      <td>22</td>\n",
       "      <td>Walcownia</td>\n",
       "      <td>2018-07-23 06:00:00</td>\n",
       "      <td>6352185295672180871</td>\n",
       "      <td>6351558574044899587</td>\n",
       "      <td>STOPPING</td>\n",
       "      <td>0</td>\n",
       "      <td>7.0</td>\n",
       "    </tr>\n",
       "    <tr>\n",
       "      <th>2</th>\n",
       "      <td>1</td>\n",
       "      <td>2018-07-23 06:00:48</td>\n",
       "      <td>572</td>\n",
       "      <td>Smolki</td>\n",
       "      <td>11</td>\n",
       "      <td>Czerwone Maki P+R</td>\n",
       "      <td>2018-07-23 06:00:00</td>\n",
       "      <td>6352185295672180943</td>\n",
       "      <td>6351558574044670211</td>\n",
       "      <td>STOPPING</td>\n",
       "      <td>0</td>\n",
       "      <td>10.0</td>\n",
       "    </tr>\n",
       "    <tr>\n",
       "      <th>3</th>\n",
       "      <td>1</td>\n",
       "      <td>2018-07-23 06:00:49</td>\n",
       "      <td>319</td>\n",
       "      <td>Jubilat</td>\n",
       "      <td>1</td>\n",
       "      <td>Wzgórza K.</td>\n",
       "      <td>2018-07-23 05:59:00</td>\n",
       "      <td>NaN</td>\n",
       "      <td>6351558574044363010</td>\n",
       "      <td>PLANNED</td>\n",
       "      <td>1</td>\n",
       "      <td>3.0</td>\n",
       "    </tr>\n",
       "    <tr>\n",
       "      <th>4</th>\n",
       "      <td>1</td>\n",
       "      <td>2018-07-23 06:00:49</td>\n",
       "      <td>322</td>\n",
       "      <td>Filharmonia</td>\n",
       "      <td>8</td>\n",
       "      <td>Bronowice Małe</td>\n",
       "      <td>2018-07-23 06:01:00</td>\n",
       "      <td>6352185295672181360</td>\n",
       "      <td>6351558574044592386</td>\n",
       "      <td>STOPPING</td>\n",
       "      <td>0</td>\n",
       "      <td>15.0</td>\n",
       "    </tr>\n",
       "  </tbody>\n",
       "</table>\n",
       "</div>"
      ],
      "text/plain": [
       "   index           time_stamp  stop     stopName  number          direction  \\\n",
       "0      1  2018-07-23 06:00:45   378   Os.Piastów      21       Kopiec Wandy   \n",
       "1      1  2018-07-23 06:00:47   612     Borsucza      22          Walcownia   \n",
       "2      1  2018-07-23 06:00:48   572       Smolki      11  Czerwone Maki P+R   \n",
       "3      1  2018-07-23 06:00:49   319      Jubilat       1         Wzgórza K.   \n",
       "4      1  2018-07-23 06:00:49   322  Filharmonia       8     Bronowice Małe   \n",
       "\n",
       "           plannedTime            vehicleId               tripId    status  \\\n",
       "0  2018-07-23 05:59:00                  NaN  6351558574044883205   PLANNED   \n",
       "1  2018-07-23 06:00:00  6352185295672180871  6351558574044899587  STOPPING   \n",
       "2  2018-07-23 06:00:00  6352185295672180943  6351558574044670211  STOPPING   \n",
       "3  2018-07-23 05:59:00                  NaN  6351558574044363010   PLANNED   \n",
       "4  2018-07-23 06:01:00  6352185295672181360  6351558574044592386  STOPPING   \n",
       "\n",
       "   delay  seq_num  \n",
       "0      1      1.0  \n",
       "1      0      7.0  \n",
       "2      0     10.0  \n",
       "3      1      3.0  \n",
       "4      0     15.0  "
      ]
     },
     "execution_count": 3,
     "metadata": {},
     "output_type": "execute_result"
    }
   ],
   "source": [
    "trams.head()"
   ]
  },
  {
   "cell_type": "markdown",
   "metadata": {},
   "source": [
    "Example tram route (journey)\n"
   ]
  },
  {
   "cell_type": "code",
   "execution_count": 4,
   "metadata": {},
   "outputs": [
    {
     "data": {
      "text/html": [
       "<div>\n",
       "<style scoped>\n",
       "    .dataframe tbody tr th:only-of-type {\n",
       "        vertical-align: middle;\n",
       "    }\n",
       "\n",
       "    .dataframe tbody tr th {\n",
       "        vertical-align: top;\n",
       "    }\n",
       "\n",
       "    .dataframe thead th {\n",
       "        text-align: right;\n",
       "    }\n",
       "</style>\n",
       "<table border=\"1\" class=\"dataframe\">\n",
       "  <thead>\n",
       "    <tr style=\"text-align: right;\">\n",
       "      <th></th>\n",
       "      <th>index</th>\n",
       "      <th>time_stamp</th>\n",
       "      <th>stop</th>\n",
       "      <th>stopName</th>\n",
       "      <th>number</th>\n",
       "      <th>direction</th>\n",
       "      <th>plannedTime</th>\n",
       "      <th>vehicleId</th>\n",
       "      <th>tripId</th>\n",
       "      <th>status</th>\n",
       "      <th>delay</th>\n",
       "      <th>seq_num</th>\n",
       "    </tr>\n",
       "  </thead>\n",
       "  <tbody>\n",
       "    <tr>\n",
       "      <th>0</th>\n",
       "      <td>1</td>\n",
       "      <td>2018-07-23 06:00:45</td>\n",
       "      <td>378</td>\n",
       "      <td>Os.Piastów</td>\n",
       "      <td>21</td>\n",
       "      <td>Kopiec Wandy</td>\n",
       "      <td>2018-07-23 05:59:00</td>\n",
       "      <td>NaN</td>\n",
       "      <td>6351558574044883205</td>\n",
       "      <td>PLANNED</td>\n",
       "      <td>1</td>\n",
       "      <td>1.0</td>\n",
       "    </tr>\n",
       "    <tr>\n",
       "      <th>70</th>\n",
       "      <td>3</td>\n",
       "      <td>2018-07-23 06:01:42</td>\n",
       "      <td>379</td>\n",
       "      <td>Piasta Kołodzieja</td>\n",
       "      <td>21</td>\n",
       "      <td>Kopiec Wandy</td>\n",
       "      <td>2018-07-23 06:00:00</td>\n",
       "      <td>NaN</td>\n",
       "      <td>6351558574044883205</td>\n",
       "      <td>PLANNED</td>\n",
       "      <td>1</td>\n",
       "      <td>2.0</td>\n",
       "    </tr>\n",
       "    <tr>\n",
       "      <th>135</th>\n",
       "      <td>6</td>\n",
       "      <td>2018-07-23 06:02:46</td>\n",
       "      <td>382</td>\n",
       "      <td>Kleeberga</td>\n",
       "      <td>21</td>\n",
       "      <td>Kopiec Wandy</td>\n",
       "      <td>2018-07-23 06:01:00</td>\n",
       "      <td>NaN</td>\n",
       "      <td>6351558574044883205</td>\n",
       "      <td>PLANNED</td>\n",
       "      <td>1</td>\n",
       "      <td>3.0</td>\n",
       "    </tr>\n",
       "    <tr>\n",
       "      <th>284</th>\n",
       "      <td>12</td>\n",
       "      <td>2018-07-23 06:04:54</td>\n",
       "      <td>388</td>\n",
       "      <td>Dunikowskiego</td>\n",
       "      <td>21</td>\n",
       "      <td>Kopiec Wandy</td>\n",
       "      <td>2018-07-23 06:03:00</td>\n",
       "      <td>NaN</td>\n",
       "      <td>6351558574044883205</td>\n",
       "      <td>PLANNED</td>\n",
       "      <td>1</td>\n",
       "      <td>4.0</td>\n",
       "    </tr>\n",
       "    <tr>\n",
       "      <th>414</th>\n",
       "      <td>17</td>\n",
       "      <td>2018-07-23 06:06:40</td>\n",
       "      <td>2539</td>\n",
       "      <td>Rondo Hipokratesa</td>\n",
       "      <td>21</td>\n",
       "      <td>Kopiec Wandy</td>\n",
       "      <td>2018-07-23 06:05:00</td>\n",
       "      <td>NaN</td>\n",
       "      <td>6351558574044883205</td>\n",
       "      <td>PLANNED</td>\n",
       "      <td>1</td>\n",
       "      <td>5.0</td>\n",
       "    </tr>\n",
       "    <tr>\n",
       "      <th>493</th>\n",
       "      <td>20</td>\n",
       "      <td>2018-07-23 06:07:43</td>\n",
       "      <td>392</td>\n",
       "      <td>DH Wanda</td>\n",
       "      <td>21</td>\n",
       "      <td>Kopiec Wandy</td>\n",
       "      <td>2018-07-23 06:06:00</td>\n",
       "      <td>NaN</td>\n",
       "      <td>6351558574044883205</td>\n",
       "      <td>PLANNED</td>\n",
       "      <td>1</td>\n",
       "      <td>6.0</td>\n",
       "    </tr>\n",
       "    <tr>\n",
       "      <th>697</th>\n",
       "      <td>28</td>\n",
       "      <td>2018-07-23 06:10:39</td>\n",
       "      <td>2745</td>\n",
       "      <td>Rondo Kocmyrzowskie im. Ks. Gorzelanego</td>\n",
       "      <td>21</td>\n",
       "      <td>Kopiec Wandy</td>\n",
       "      <td>2018-07-23 06:09:00</td>\n",
       "      <td>NaN</td>\n",
       "      <td>6351558574044883205</td>\n",
       "      <td>PLANNED</td>\n",
       "      <td>1</td>\n",
       "      <td>7.0</td>\n",
       "    </tr>\n",
       "    <tr>\n",
       "      <th>772</th>\n",
       "      <td>31</td>\n",
       "      <td>2018-07-23 06:11:43</td>\n",
       "      <td>418</td>\n",
       "      <td>Os.Zgody</td>\n",
       "      <td>21</td>\n",
       "      <td>Kopiec Wandy</td>\n",
       "      <td>2018-07-23 06:10:00</td>\n",
       "      <td>NaN</td>\n",
       "      <td>6351558574044883205</td>\n",
       "      <td>PLANNED</td>\n",
       "      <td>1</td>\n",
       "      <td>8.0</td>\n",
       "    </tr>\n",
       "    <tr>\n",
       "      <th>1007</th>\n",
       "      <td>40</td>\n",
       "      <td>2018-07-23 06:14:58</td>\n",
       "      <td>2744</td>\n",
       "      <td>Plac Centralny im. R.Reagana</td>\n",
       "      <td>21</td>\n",
       "      <td>Kopiec Wandy</td>\n",
       "      <td>2018-07-23 06:13:00</td>\n",
       "      <td>NaN</td>\n",
       "      <td>6351558574044883205</td>\n",
       "      <td>PLANNED</td>\n",
       "      <td>1</td>\n",
       "      <td>9.0</td>\n",
       "    </tr>\n",
       "    <tr>\n",
       "      <th>1137</th>\n",
       "      <td>45</td>\n",
       "      <td>2018-07-23 06:16:49</td>\n",
       "      <td>423</td>\n",
       "      <td>Struga</td>\n",
       "      <td>21</td>\n",
       "      <td>Kopiec Wandy</td>\n",
       "      <td>2018-07-23 06:15:00</td>\n",
       "      <td>NaN</td>\n",
       "      <td>6351558574044883205</td>\n",
       "      <td>PLANNED</td>\n",
       "      <td>1</td>\n",
       "      <td>10.0</td>\n",
       "    </tr>\n",
       "    <tr>\n",
       "      <th>1561</th>\n",
       "      <td>61</td>\n",
       "      <td>2018-07-23 06:22:46</td>\n",
       "      <td>459</td>\n",
       "      <td>Kombinat</td>\n",
       "      <td>21</td>\n",
       "      <td>Kopiec Wandy</td>\n",
       "      <td>2018-07-23 06:21:00</td>\n",
       "      <td>NaN</td>\n",
       "      <td>6351558574044883205</td>\n",
       "      <td>PLANNED</td>\n",
       "      <td>1</td>\n",
       "      <td>11.0</td>\n",
       "    </tr>\n",
       "  </tbody>\n",
       "</table>\n",
       "</div>"
      ],
      "text/plain": [
       "      index           time_stamp  stop  \\\n",
       "0         1  2018-07-23 06:00:45   378   \n",
       "70        3  2018-07-23 06:01:42   379   \n",
       "135       6  2018-07-23 06:02:46   382   \n",
       "284      12  2018-07-23 06:04:54   388   \n",
       "414      17  2018-07-23 06:06:40  2539   \n",
       "493      20  2018-07-23 06:07:43   392   \n",
       "697      28  2018-07-23 06:10:39  2745   \n",
       "772      31  2018-07-23 06:11:43   418   \n",
       "1007     40  2018-07-23 06:14:58  2744   \n",
       "1137     45  2018-07-23 06:16:49   423   \n",
       "1561     61  2018-07-23 06:22:46   459   \n",
       "\n",
       "                                     stopName  number     direction  \\\n",
       "0                                  Os.Piastów      21  Kopiec Wandy   \n",
       "70                          Piasta Kołodzieja      21  Kopiec Wandy   \n",
       "135                                 Kleeberga      21  Kopiec Wandy   \n",
       "284                             Dunikowskiego      21  Kopiec Wandy   \n",
       "414                         Rondo Hipokratesa      21  Kopiec Wandy   \n",
       "493                                  DH Wanda      21  Kopiec Wandy   \n",
       "697   Rondo Kocmyrzowskie im. Ks. Gorzelanego      21  Kopiec Wandy   \n",
       "772                                  Os.Zgody      21  Kopiec Wandy   \n",
       "1007             Plac Centralny im. R.Reagana      21  Kopiec Wandy   \n",
       "1137                                   Struga      21  Kopiec Wandy   \n",
       "1561                                 Kombinat      21  Kopiec Wandy   \n",
       "\n",
       "              plannedTime vehicleId               tripId   status  delay  \\\n",
       "0     2018-07-23 05:59:00       NaN  6351558574044883205  PLANNED      1   \n",
       "70    2018-07-23 06:00:00       NaN  6351558574044883205  PLANNED      1   \n",
       "135   2018-07-23 06:01:00       NaN  6351558574044883205  PLANNED      1   \n",
       "284   2018-07-23 06:03:00       NaN  6351558574044883205  PLANNED      1   \n",
       "414   2018-07-23 06:05:00       NaN  6351558574044883205  PLANNED      1   \n",
       "493   2018-07-23 06:06:00       NaN  6351558574044883205  PLANNED      1   \n",
       "697   2018-07-23 06:09:00       NaN  6351558574044883205  PLANNED      1   \n",
       "772   2018-07-23 06:10:00       NaN  6351558574044883205  PLANNED      1   \n",
       "1007  2018-07-23 06:13:00       NaN  6351558574044883205  PLANNED      1   \n",
       "1137  2018-07-23 06:15:00       NaN  6351558574044883205  PLANNED      1   \n",
       "1561  2018-07-23 06:21:00       NaN  6351558574044883205  PLANNED      1   \n",
       "\n",
       "      seq_num  \n",
       "0         1.0  \n",
       "70        2.0  \n",
       "135       3.0  \n",
       "284       4.0  \n",
       "414       5.0  \n",
       "493       6.0  \n",
       "697       7.0  \n",
       "772       8.0  \n",
       "1007      9.0  \n",
       "1137     10.0  \n",
       "1561     11.0  "
      ]
     },
     "execution_count": 4,
     "metadata": {},
     "output_type": "execute_result"
    }
   ],
   "source": [
    "trams[ trams.tripId == 6351558574044883205]"
   ]
  },
  {
   "cell_type": "markdown",
   "metadata": {},
   "source": [
    "Delay column is the delay given in minutes. "
   ]
  },
  {
   "cell_type": "code",
   "execution_count": 5,
   "metadata": {},
   "outputs": [
    {
     "data": {
      "text/html": [
       "<div>\n",
       "<style scoped>\n",
       "    .dataframe tbody tr th:only-of-type {\n",
       "        vertical-align: middle;\n",
       "    }\n",
       "\n",
       "    .dataframe tbody tr th {\n",
       "        vertical-align: top;\n",
       "    }\n",
       "\n",
       "    .dataframe thead th {\n",
       "        text-align: right;\n",
       "    }\n",
       "</style>\n",
       "<table border=\"1\" class=\"dataframe\">\n",
       "  <thead>\n",
       "    <tr style=\"text-align: right;\">\n",
       "      <th></th>\n",
       "      <th>value_counts</th>\n",
       "      <th>percent</th>\n",
       "    </tr>\n",
       "  </thead>\n",
       "  <tbody>\n",
       "    <tr>\n",
       "      <th>0</th>\n",
       "      <td>215844</td>\n",
       "      <td>0.426947</td>\n",
       "    </tr>\n",
       "    <tr>\n",
       "      <th>1</th>\n",
       "      <td>177463</td>\n",
       "      <td>0.351028</td>\n",
       "    </tr>\n",
       "    <tr>\n",
       "      <th>2</th>\n",
       "      <td>58743</td>\n",
       "      <td>0.116196</td>\n",
       "    </tr>\n",
       "    <tr>\n",
       "      <th>3</th>\n",
       "      <td>28027</td>\n",
       "      <td>0.055438</td>\n",
       "    </tr>\n",
       "    <tr>\n",
       "      <th>4</th>\n",
       "      <td>13186</td>\n",
       "      <td>0.026082</td>\n",
       "    </tr>\n",
       "    <tr>\n",
       "      <th>5</th>\n",
       "      <td>6047</td>\n",
       "      <td>0.011961</td>\n",
       "    </tr>\n",
       "    <tr>\n",
       "      <th>6</th>\n",
       "      <td>2762</td>\n",
       "      <td>0.005463</td>\n",
       "    </tr>\n",
       "    <tr>\n",
       "      <th>7</th>\n",
       "      <td>1501</td>\n",
       "      <td>0.002969</td>\n",
       "    </tr>\n",
       "    <tr>\n",
       "      <th>8</th>\n",
       "      <td>785</td>\n",
       "      <td>0.001553</td>\n",
       "    </tr>\n",
       "    <tr>\n",
       "      <th>9</th>\n",
       "      <td>500</td>\n",
       "      <td>0.000989</td>\n",
       "    </tr>\n",
       "    <tr>\n",
       "      <th>10</th>\n",
       "      <td>335</td>\n",
       "      <td>0.000663</td>\n",
       "    </tr>\n",
       "    <tr>\n",
       "      <th>11</th>\n",
       "      <td>159</td>\n",
       "      <td>0.000315</td>\n",
       "    </tr>\n",
       "    <tr>\n",
       "      <th>12</th>\n",
       "      <td>71</td>\n",
       "      <td>0.000140</td>\n",
       "    </tr>\n",
       "    <tr>\n",
       "      <th>13</th>\n",
       "      <td>67</td>\n",
       "      <td>0.000133</td>\n",
       "    </tr>\n",
       "    <tr>\n",
       "      <th>14</th>\n",
       "      <td>45</td>\n",
       "      <td>0.000089</td>\n",
       "    </tr>\n",
       "    <tr>\n",
       "      <th>15</th>\n",
       "      <td>11</td>\n",
       "      <td>0.000022</td>\n",
       "    </tr>\n",
       "    <tr>\n",
       "      <th>16</th>\n",
       "      <td>3</td>\n",
       "      <td>0.000006</td>\n",
       "    </tr>\n",
       "    <tr>\n",
       "      <th>17</th>\n",
       "      <td>2</td>\n",
       "      <td>0.000004</td>\n",
       "    </tr>\n",
       "    <tr>\n",
       "      <th>18</th>\n",
       "      <td>1</td>\n",
       "      <td>0.000002</td>\n",
       "    </tr>\n",
       "  </tbody>\n",
       "</table>\n",
       "</div>"
      ],
      "text/plain": [
       "    value_counts   percent\n",
       "0         215844  0.426947\n",
       "1         177463  0.351028\n",
       "2          58743  0.116196\n",
       "3          28027  0.055438\n",
       "4          13186  0.026082\n",
       "5           6047  0.011961\n",
       "6           2762  0.005463\n",
       "7           1501  0.002969\n",
       "8            785  0.001553\n",
       "9            500  0.000989\n",
       "10           335  0.000663\n",
       "11           159  0.000315\n",
       "12            71  0.000140\n",
       "13            67  0.000133\n",
       "14            45  0.000089\n",
       "15            11  0.000022\n",
       "16             3  0.000006\n",
       "17             2  0.000004\n",
       "18             1  0.000002"
      ]
     },
     "execution_count": 5,
     "metadata": {},
     "output_type": "execute_result"
    }
   ],
   "source": [
    "pd.DataFrame(zip(trams.delay.value_counts(), trams.delay.value_counts(normalize=True)), columns = ['value_counts','percent'])"
   ]
  },
  {
   "cell_type": "markdown",
   "metadata": {},
   "source": [
    "Most of trams (42%) are on time, 1/3 (35%) has the 1 minute delay.\n",
    "* **Arrivals ahead of time have not been marked**"
   ]
  },
  {
   "cell_type": "code",
   "execution_count": 6,
   "metadata": {},
   "outputs": [
    {
     "data": {
      "image/png": "[encoded data removed]",
      "text/plain": [
       "<Figure size 432x288 with 1 Axes>"
      ]
     },
     "metadata": {
      "needs_background": "light"
     },
     "output_type": "display_data"
    }
   ],
   "source": [
    "trams.delay.hist(bins=19);"
   ]
  },
  {
   "cell_type": "markdown",
   "metadata": {},
   "source": [
    "Dalays have a long tail on the right. Most trams arrive on time or slightly late."
   ]
  },
  {
   "cell_type": "code",
   "execution_count": 7,
   "metadata": {},
   "outputs": [
    {
     "data": {
      "text/plain": [
       "count    505552.000000\n",
       "mean          1.004029\n",
       "std           1.310555\n",
       "min           0.000000\n",
       "25%           0.000000\n",
       "50%           1.000000\n",
       "75%           1.000000\n",
       "max          19.000000\n",
       "Name: delay, dtype: float64"
      ]
     },
     "execution_count": 7,
     "metadata": {},
     "output_type": "execute_result"
    }
   ],
   "source": [
    "trams.delay.describe()"
   ]
  },
  {
   "cell_type": "markdown",
   "metadata": {},
   "source": [
    "I create a column of **delays in seconds** to easily interpret the accuracy of the model. 'delay_seconds' will be the new target (y)."
   ]
  },
  {
   "cell_type": "code",
   "execution_count": 8,
   "metadata": {},
   "outputs": [],
   "source": [
    "trams['delay_seconds'] = trams['delay'].apply(lambda x: x * 60)"
   ]
  },
  {
   "cell_type": "code",
   "execution_count": 9,
   "metadata": {},
   "outputs": [],
   "source": [
    "trams = trams.drop('index', axis = 1 )"
   ]
  },
  {
   "cell_type": "markdown",
   "metadata": {},
   "source": [
    "Categorizing object column: direction"
   ]
  },
  {
   "cell_type": "code",
   "execution_count": 10,
   "metadata": {},
   "outputs": [
    {
     "name": "stdout",
     "output_type": "stream",
     "text": [
      "['Kopiec Wandy', 'Walcownia', 'Czerwone Maki P+R', 'Wzgórza K.', 'Bronowice Małe', 'Salwator', 'Mały Płaszów', 'Os.Piastów', 'Mistrzejowice', 'Bronowice', 'Kurdwanów P+R', 'Nowy Bieżanów P+R', 'Krowodrza Górka', 'Cichy Kącik', 'Borek Fałęcki', 'Dworzec Tow.', 'Prokocim', 'Łagiewniki', 'Cm. Rakowicki', 'Kombinat', 'Plac Centralny im.R.Reagana']\n"
     ]
    }
   ],
   "source": [
    "directions = list(trams['direction'].unique())\n",
    "print(directions)"
   ]
  },
  {
   "cell_type": "code",
   "execution_count": 11,
   "metadata": {},
   "outputs": [],
   "source": [
    "trams['direction_cat'] = trams['direction'].factorize()[0]"
   ]
  },
  {
   "cell_type": "markdown",
   "metadata": {},
   "source": [
    "Wheather a stopName is a tram loop"
   ]
  },
  {
   "cell_type": "code",
   "execution_count": 12,
   "metadata": {},
   "outputs": [],
   "source": [
    "trams['is_loop'] = trams['stopName'].apply(lambda x: 1 if x in directions else 0)"
   ]
  },
  {
   "cell_type": "code",
   "execution_count": 13,
   "metadata": {},
   "outputs": [
    {
     "data": {
      "image/png": "[encoded data removed]",
      "text/plain": [
       "<Figure size 1080x288 with 1 Axes>"
      ]
     },
     "metadata": {
      "needs_background": "light"
     },
     "output_type": "display_data"
    }
   ],
   "source": [
    "plt.figure(figsize=(15, 4))\n",
    "sns.barplot(x=\"is_loop\", y=\"delay_seconds\", data=trams, ci=None)\n",
    "plt.xticks(rotation=90);"
   ]
  },
  {
   "cell_type": "code",
   "execution_count": 14,
   "metadata": {},
   "outputs": [
    {
     "data": {
      "text/plain": [
       "0    473194\n",
       "1     32358\n",
       "Name: is_loop, dtype: int64"
      ]
     },
     "execution_count": 14,
     "metadata": {},
     "output_type": "execute_result"
    }
   ],
   "source": [
    "trams['is_loop'].value_counts()"
   ]
  },
  {
   "cell_type": "markdown",
   "metadata": {},
   "source": [
    "'is_loop' may be a feature that affects the result if the number of such stops is not too small"
   ]
  },
  {
   "cell_type": "markdown",
   "metadata": {},
   "source": [
    "#### Missing values"
   ]
  },
  {
   "cell_type": "code",
   "execution_count": 15,
   "metadata": {},
   "outputs": [
    {
     "data": {
      "text/plain": [
       "time_stamp           0\n",
       "stop                 0\n",
       "stopName             0\n",
       "number               0\n",
       "direction            0\n",
       "plannedTime          0\n",
       "vehicleId        58740\n",
       "tripId               0\n",
       "status               0\n",
       "delay                0\n",
       "seq_num           4735\n",
       "delay_seconds        0\n",
       "direction_cat        0\n",
       "is_loop              0\n",
       "dtype: int64"
      ]
     },
     "execution_count": 15,
     "metadata": {},
     "output_type": "execute_result"
    }
   ],
   "source": [
    "trams.isnull().sum()"
   ]
  },
  {
   "cell_type": "markdown",
   "metadata": {},
   "source": [
    "Filling missing values with -1 as an unique value. (for not removing 58740 rows and be able to convert column to a int type)"
   ]
  },
  {
   "cell_type": "code",
   "execution_count": 16,
   "metadata": {},
   "outputs": [],
   "source": [
    "#trams['vehicleId'].unique()\n",
    "trams['vehicleId'].fillna('-1', inplace = True)\n",
    "trams['vehicleId'] = trams['vehicleId'].astype(np.int64)\n",
    "\n",
    "trams['seq_num'].fillna(-1, inplace = True)"
   ]
  },
  {
   "cell_type": "code",
   "execution_count": 17,
   "metadata": {},
   "outputs": [
    {
     "name": "stdout",
     "output_type": "stream",
     "text": [
      "<class 'pandas.core.frame.DataFrame'>\n",
      "Int64Index: 505552 entries, 0 to 72416\n",
      "Data columns (total 14 columns):\n",
      "time_stamp       505552 non-null object\n",
      "stop             505552 non-null int64\n",
      "stopName         505552 non-null object\n",
      "number           505552 non-null int64\n",
      "direction        505552 non-null object\n",
      "plannedTime      505552 non-null object\n",
      "vehicleId        505552 non-null int64\n",
      "tripId           505552 non-null int64\n",
      "status           505552 non-null object\n",
      "delay            505552 non-null int64\n",
      "seq_num          505552 non-null float64\n",
      "delay_seconds    505552 non-null int64\n",
      "direction_cat    505552 non-null int64\n",
      "is_loop          505552 non-null int64\n",
      "dtypes: float64(1), int64(8), object(5)\n",
      "memory usage: 67.9+ MB\n"
     ]
    }
   ],
   "source": [
    "trams.info()"
   ]
  },
  {
   "cell_type": "markdown",
   "metadata": {},
   "source": [
    "Dates - plannedTime"
   ]
  },
  {
   "cell_type": "code",
   "execution_count": 18,
   "metadata": {},
   "outputs": [
    {
     "name": "stdout",
     "output_type": "stream",
     "text": [
      "<class 'pandas.core.frame.DataFrame'>\n",
      "Int64Index: 505552 entries, 0 to 72416\n",
      "Data columns (total 1 columns):\n",
      "plannedTime    505552 non-null datetime64[ns]\n",
      "dtypes: datetime64[ns](1)\n",
      "memory usage: 17.7 MB\n"
     ]
    }
   ],
   "source": [
    "trams['plannedTime'] = pd.to_datetime( trams['plannedTime'] )\n",
    "trams[['plannedTime']].info()"
   ]
  },
  {
   "cell_type": "code",
   "execution_count": 19,
   "metadata": {},
   "outputs": [],
   "source": [
    "trams['planned_hour'] = trams['plannedTime'].dt.hour"
   ]
  },
  {
   "cell_type": "code",
   "execution_count": 20,
   "metadata": {},
   "outputs": [
    {
     "data": {
      "image/png": "[encoded data removed]",
      "text/plain": [
       "<Figure size 1080x288 with 1 Axes>"
      ]
     },
     "metadata": {
      "needs_background": "light"
     },
     "output_type": "display_data"
    }
   ],
   "source": [
    "plt.figure(figsize=(15, 4))\n",
    "sns.barplot(x=\"planned_hour\", y=\"delay_seconds\", data=trams, ci=None)\n",
    "plt.xticks(rotation=90);"
   ]
  },
  {
   "cell_type": "markdown",
   "metadata": {},
   "source": [
    "Plus number_direction & stop_direction columns"
   ]
  },
  {
   "cell_type": "code",
   "execution_count": 21,
   "metadata": {},
   "outputs": [],
   "source": [
    "trams['number_direction'] = trams.apply( lambda x: '{} {}'.format( x['number'], x['direction']), axis = 1 ).factorize()[0]\n",
    "trams['stop_direction'] = trams.apply( lambda x: '{} {}'.format( x['number'], x['stop']), axis = 1 ).factorize()[0]"
   ]
  },
  {
   "cell_type": "markdown",
   "metadata": {},
   "source": [
    "Are trams on short routes more punctual than on long ones?"
   ]
  },
  {
   "cell_type": "code",
   "execution_count": 22,
   "metadata": {},
   "outputs": [],
   "source": [
    "trams['max_seq'] = trams.groupby(['number_direction'])['seq_num'].transform(max)"
   ]
  },
  {
   "cell_type": "code",
   "execution_count": 23,
   "metadata": {},
   "outputs": [
    {
     "data": {
      "image/png": "[encoded data removed]",
      "text/plain": [
       "<Figure size 1080x288 with 1 Axes>"
      ]
     },
     "metadata": {
      "needs_background": "light"
     },
     "output_type": "display_data"
    }
   ],
   "source": [
    "plt.figure(figsize=(15,4))\n",
    "sns.barplot(x='max_seq', y='delay_seconds', data = trams, ci=None);"
   ]
  },
  {
   "cell_type": "markdown",
   "metadata": {},
   "source": [
    "Does not look like a linear relationship, but can be checked."
   ]
  },
  {
   "cell_type": "code",
   "execution_count": 24,
   "metadata": {},
   "outputs": [
    {
     "data": {
      "text/html": [
       "<div>\n",
       "<style scoped>\n",
       "    .dataframe tbody tr th:only-of-type {\n",
       "        vertical-align: middle;\n",
       "    }\n",
       "\n",
       "    .dataframe tbody tr th {\n",
       "        vertical-align: top;\n",
       "    }\n",
       "\n",
       "    .dataframe thead th {\n",
       "        text-align: right;\n",
       "    }\n",
       "</style>\n",
       "<table border=\"1\" class=\"dataframe\">\n",
       "  <thead>\n",
       "    <tr style=\"text-align: right;\">\n",
       "      <th></th>\n",
       "      <th>time_stamp</th>\n",
       "      <th>stop</th>\n",
       "      <th>stopName</th>\n",
       "      <th>number</th>\n",
       "      <th>direction</th>\n",
       "      <th>plannedTime</th>\n",
       "      <th>vehicleId</th>\n",
       "      <th>tripId</th>\n",
       "      <th>status</th>\n",
       "      <th>delay</th>\n",
       "      <th>seq_num</th>\n",
       "      <th>delay_seconds</th>\n",
       "      <th>direction_cat</th>\n",
       "      <th>is_loop</th>\n",
       "      <th>planned_hour</th>\n",
       "      <th>number_direction</th>\n",
       "      <th>stop_direction</th>\n",
       "      <th>max_seq</th>\n",
       "    </tr>\n",
       "  </thead>\n",
       "  <tbody>\n",
       "    <tr>\n",
       "      <th>54982</th>\n",
       "      <td>2018-07-25 18:23:45</td>\n",
       "      <td>569</td>\n",
       "      <td>Limanowskiego</td>\n",
       "      <td>13</td>\n",
       "      <td>Nowy Bieżanów P+R</td>\n",
       "      <td>2018-07-25 18:22:00</td>\n",
       "      <td>-1</td>\n",
       "      <td>6351558574044670735</td>\n",
       "      <td>PLANNED</td>\n",
       "      <td>1</td>\n",
       "      <td>16.0</td>\n",
       "      <td>60</td>\n",
       "      <td>11</td>\n",
       "      <td>0</td>\n",
       "      <td>18</td>\n",
       "      <td>22</td>\n",
       "      <td>154</td>\n",
       "      <td>27.0</td>\n",
       "    </tr>\n",
       "    <tr>\n",
       "      <th>30858</th>\n",
       "      <td>2018-07-24 12:31:14</td>\n",
       "      <td>824</td>\n",
       "      <td>Borek Fałęcki I</td>\n",
       "      <td>8</td>\n",
       "      <td>Borek Fałęcki</td>\n",
       "      <td>2018-07-24 12:28:00</td>\n",
       "      <td>6352185295672181352</td>\n",
       "      <td>6351558574044580361</td>\n",
       "      <td>PREDICTED</td>\n",
       "      <td>3</td>\n",
       "      <td>26.0</td>\n",
       "      <td>180</td>\n",
       "      <td>14</td>\n",
       "      <td>0</td>\n",
       "      <td>12</td>\n",
       "      <td>25</td>\n",
       "      <td>378</td>\n",
       "      <td>26.0</td>\n",
       "    </tr>\n",
       "    <tr>\n",
       "      <th>16431</th>\n",
       "      <td>2018-07-27 08:59:39</td>\n",
       "      <td>3176</td>\n",
       "      <td>Kurdwanów P+R</td>\n",
       "      <td>24</td>\n",
       "      <td>Bronowice Małe</td>\n",
       "      <td>2018-07-27 08:58:00</td>\n",
       "      <td>-1</td>\n",
       "      <td>6351558574046764294</td>\n",
       "      <td>PLANNED</td>\n",
       "      <td>1</td>\n",
       "      <td>1.0</td>\n",
       "      <td>60</td>\n",
       "      <td>4</td>\n",
       "      <td>1</td>\n",
       "      <td>8</td>\n",
       "      <td>7</td>\n",
       "      <td>363</td>\n",
       "      <td>27.0</td>\n",
       "    </tr>\n",
       "  </tbody>\n",
       "</table>\n",
       "</div>"
      ],
      "text/plain": [
       "                time_stamp  stop         stopName  number          direction  \\\n",
       "54982  2018-07-25 18:23:45   569    Limanowskiego      13  Nowy Bieżanów P+R   \n",
       "30858  2018-07-24 12:31:14   824  Borek Fałęcki I       8      Borek Fałęcki   \n",
       "16431  2018-07-27 08:59:39  3176    Kurdwanów P+R      24     Bronowice Małe   \n",
       "\n",
       "              plannedTime            vehicleId               tripId  \\\n",
       "54982 2018-07-25 18:22:00                   -1  6351558574044670735   \n",
       "30858 2018-07-24 12:28:00  6352185295672181352  6351558574044580361   \n",
       "16431 2018-07-27 08:58:00                   -1  6351558574046764294   \n",
       "\n",
       "          status  delay  seq_num  delay_seconds  direction_cat  is_loop  \\\n",
       "54982    PLANNED      1     16.0             60             11        0   \n",
       "30858  PREDICTED      3     26.0            180             14        0   \n",
       "16431    PLANNED      1      1.0             60              4        1   \n",
       "\n",
       "       planned_hour  number_direction  stop_direction  max_seq  \n",
       "54982            18                22             154     27.0  \n",
       "30858            12                25             378     26.0  \n",
       "16431             8                 7             363     27.0  "
      ]
     },
     "execution_count": 24,
     "metadata": {},
     "output_type": "execute_result"
    }
   ],
   "source": [
    "trams.sample(3)"
   ]
  },
  {
   "cell_type": "code",
   "execution_count": 25,
   "metadata": {},
   "outputs": [
    {
     "data": {
      "text/plain": [
       "Index(['time_stamp', 'stop', 'stopName', 'number', 'direction', 'plannedTime',\n",
       "       'vehicleId', 'tripId', 'status', 'delay', 'seq_num', 'delay_seconds',\n",
       "       'direction_cat', 'is_loop', 'planned_hour', 'number_direction',\n",
       "       'stop_direction', 'max_seq'],\n",
       "      dtype='object')"
      ]
     },
     "execution_count": 25,
     "metadata": {},
     "output_type": "execute_result"
    }
   ],
   "source": [
    "trams.columns"
   ]
  },
  {
   "cell_type": "markdown",
   "metadata": {},
   "source": [
    "A backup, before I make a mess."
   ]
  },
  {
   "cell_type": "code",
   "execution_count": 26,
   "metadata": {},
   "outputs": [],
   "source": [
    "trams_copy = trams.copy(deep = True)"
   ]
  },
  {
   "cell_type": "code",
   "execution_count": 27,
   "metadata": {},
   "outputs": [],
   "source": [
    "trams_copy = trams_copy.drop(['time_stamp', 'stopName', 'direction', 'plannedTime', 'tripId', 'status', 'delay'], axis = 1)"
   ]
  },
  {
   "cell_type": "markdown",
   "metadata": {},
   "source": [
    "tripId, Status not included in X, because:\n",
    "* tripId is only known when the tram has already started,\n",
    "* Status is not knowed while starting also."
   ]
  },
  {
   "cell_type": "code",
   "execution_count": 28,
   "metadata": {},
   "outputs": [
    {
     "data": {
      "text/html": [
       "<div>\n",
       "<style scoped>\n",
       "    .dataframe tbody tr th:only-of-type {\n",
       "        vertical-align: middle;\n",
       "    }\n",
       "\n",
       "    .dataframe tbody tr th {\n",
       "        vertical-align: top;\n",
       "    }\n",
       "\n",
       "    .dataframe thead th {\n",
       "        text-align: right;\n",
       "    }\n",
       "</style>\n",
       "<table border=\"1\" class=\"dataframe\">\n",
       "  <thead>\n",
       "    <tr style=\"text-align: right;\">\n",
       "      <th></th>\n",
       "      <th>stop</th>\n",
       "      <th>number</th>\n",
       "      <th>vehicleId</th>\n",
       "      <th>seq_num</th>\n",
       "      <th>delay_seconds</th>\n",
       "      <th>direction_cat</th>\n",
       "      <th>is_loop</th>\n",
       "      <th>planned_hour</th>\n",
       "      <th>number_direction</th>\n",
       "      <th>stop_direction</th>\n",
       "      <th>max_seq</th>\n",
       "    </tr>\n",
       "  </thead>\n",
       "  <tbody>\n",
       "    <tr>\n",
       "      <th>66764</th>\n",
       "      <td>70</td>\n",
       "      <td>19</td>\n",
       "      <td>6352185295672181137</td>\n",
       "      <td>1.0</td>\n",
       "      <td>0</td>\n",
       "      <td>14</td>\n",
       "      <td>0</td>\n",
       "      <td>21</td>\n",
       "      <td>21</td>\n",
       "      <td>511</td>\n",
       "      <td>19.0</td>\n",
       "    </tr>\n",
       "    <tr>\n",
       "      <th>50736</th>\n",
       "      <td>320</td>\n",
       "      <td>20</td>\n",
       "      <td>6352185295672181154</td>\n",
       "      <td>18.0</td>\n",
       "      <td>120</td>\n",
       "      <td>13</td>\n",
       "      <td>0</td>\n",
       "      <td>17</td>\n",
       "      <td>15</td>\n",
       "      <td>222</td>\n",
       "      <td>18.0</td>\n",
       "    </tr>\n",
       "    <tr>\n",
       "      <th>7848</th>\n",
       "      <td>621</td>\n",
       "      <td>6</td>\n",
       "      <td>6352185295672181193</td>\n",
       "      <td>13.0</td>\n",
       "      <td>60</td>\n",
       "      <td>10</td>\n",
       "      <td>0</td>\n",
       "      <td>7</td>\n",
       "      <td>31</td>\n",
       "      <td>279</td>\n",
       "      <td>20.0</td>\n",
       "    </tr>\n",
       "  </tbody>\n",
       "</table>\n",
       "</div>"
      ],
      "text/plain": [
       "       stop  number            vehicleId  seq_num  delay_seconds  \\\n",
       "66764    70      19  6352185295672181137      1.0              0   \n",
       "50736   320      20  6352185295672181154     18.0            120   \n",
       "7848    621       6  6352185295672181193     13.0             60   \n",
       "\n",
       "       direction_cat  is_loop  planned_hour  number_direction  stop_direction  \\\n",
       "66764             14        0            21                21             511   \n",
       "50736             13        0            17                15             222   \n",
       "7848              10        0             7                31             279   \n",
       "\n",
       "       max_seq  \n",
       "66764     19.0  \n",
       "50736     18.0  \n",
       "7848      20.0  "
      ]
     },
     "execution_count": 28,
     "metadata": {},
     "output_type": "execute_result"
    }
   ],
   "source": [
    "trams_copy.sample(3)"
   ]
  },
  {
   "cell_type": "code",
   "execution_count": 29,
   "metadata": {},
   "outputs": [],
   "source": [
    "features = [ \n",
    "            'stop', \n",
    "            'number' , \n",
    "            'direction_cat', \n",
    "            'vehicleId', \n",
    "            'seq_num', \n",
    "            #'number_direction', #proved to be not very useful\n",
    "            #'stop_direction', \n",
    "            'planned_hour',\n",
    "            #'is_loop' \n",
    "            'max_seq'\n",
    "           ] \n",
    "\n",
    "X = trams_copy[ features ].values\n",
    "y = trams_copy['delay_seconds'].values"
   ]
  },
  {
   "cell_type": "code",
   "execution_count": 30,
   "metadata": {},
   "outputs": [
    {
     "data": {
      "text/plain": [
       "((505552, 7), (505552,))"
      ]
     },
     "execution_count": 30,
     "metadata": {},
     "output_type": "execute_result"
    }
   ],
   "source": [
    "X.shape, y.shape"
   ]
  },
  {
   "cell_type": "code",
   "execution_count": 31,
   "metadata": {},
   "outputs": [
    {
     "data": {
      "text/plain": [
       "'Error in seconds: -46.57224630874568, std in seconds: 1.3905467147133046'"
      ]
     },
     "execution_count": 31,
     "metadata": {},
     "output_type": "execute_result"
    }
   ],
   "source": [
    "model = DecisionTreeRegressor( max_depth=10, random_state = 2019 )\n",
    "scores = cross_val_score( model, X, y, cv=5, scoring = 'neg_mean_absolute_error' )\n",
    "\n",
    "'Error in seconds: {}, std in seconds: {}'.format( np.mean(scores), np.std(scores) ) "
   ]
  },
  {
   "cell_type": "markdown",
   "metadata": {},
   "source": [
    "#### By this simple model we can predict trams delays with an average of 46.57 seconds exactness.\n",
    "More data probably could help."
   ]
  },
  {
   "cell_type": "markdown",
   "metadata": {},
   "source": [
    "Feature importances:"
   ]
  },
  {
   "cell_type": "code",
   "execution_count": 32,
   "metadata": {},
   "outputs": [
    {
     "data": {
      "image/png": "[encoded data removed]",
      "text/plain": [
       "<Figure size 1080x288 with 1 Axes>"
      ]
     },
     "metadata": {
      "needs_background": "light"
     },
     "output_type": "display_data"
    }
   ],
   "source": [
    "feat = pd.DataFrame(\n",
    "                    zip(features, model.fit(X,y).feature_importances_), columns=['feature', 'importance']\n",
    "                    ).sort_values(by='importance', ascending = False)\n",
    "\n",
    "plt.figure(figsize=(15, 4))\n",
    "sns.barplot(x = 'feature', y = 'importance', data=feat, ci = None);"
   ]
  }
 ],
 "metadata": {
  "kernelspec": {
   "display_name": "Python 3",
   "language": "python",
   "name": "python3"
  },
  "language_info": {
   "codemirror_mode": {
    "name": "ipython",
    "version": 3
   },
   "file_extension": ".py",
   "mimetype": "text/x-python",
   "name": "python",
   "nbconvert_exporter": "python",
   "pygments_lexer": "ipython3",
   "version": "3.6.7"
  }
 },
 "nbformat": 4,
 "nbformat_minor": 2
}
